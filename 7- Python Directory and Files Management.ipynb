{
 "cells": [
  {
   "cell_type": "markdown",
   "metadata": {},
   "source": [
    "### Python Directory and Files Management"
   ]
  },
  {
   "cell_type": "markdown",
   "metadata": {},
   "source": [
    "##### Get Current Directory in Python "
   ]
  },
  {
   "cell_type": "code",
   "execution_count": 24,
   "metadata": {},
   "outputs": [
    {
     "name": "stdout",
     "output_type": "stream",
     "text": [
      "C:\\Hello\n"
     ]
    }
   ],
   "source": [
    "import os\n",
    "\n",
    "print(os.getcwd())\n",
    " \n",
    "#Here, getcwd() returns the current directory in the form of a string."
   ]
  },
  {
   "cell_type": "markdown",
   "metadata": {},
   "source": [
    "### Changing Directory in Python "
   ]
  },
  {
   "cell_type": "code",
   "execution_count": 25,
   "metadata": {},
   "outputs": [
    {
     "name": "stdout",
     "output_type": "stream",
     "text": [
      "C:\\Hello\n"
     ]
    }
   ],
   "source": [
    "import os\n",
    "\n",
    "# change directory\n",
    "os.chdir('C:\\\\Hello')\n",
    "\n",
    "print(os.getcwd())\n",
    "\n",
    "#Here, we have used the chdir() method to change the current working directory and passed a new path as a string to chdir()."
   ]
  },
  {
   "cell_type": "markdown",
   "metadata": {},
   "source": [
    "### List Directories and Files in Python "
   ]
  },
  {
   "cell_type": "code",
   "execution_count": 28,
   "metadata": {},
   "outputs": [
    {
     "name": "stdout",
     "output_type": "stream",
     "text": [
      "C:\\Hello\n"
     ]
    },
    {
     "data": {
      "text/plain": [
       "['$Recycle.Bin',\n",
       " 'CanoScan',\n",
       " 'Documents and Settings',\n",
       " 'DumpStack.log.tmp',\n",
       " 'Hello',\n",
       " 'hiberfil.sys',\n",
       " 'My Web Sites',\n",
       " 'pagefile.sys',\n",
       " 'PerfLogs',\n",
       " 'Program Files',\n",
       " 'Program Files (x86)',\n",
       " 'ProgramData',\n",
       " 'Recovery',\n",
       " 'swapfile.sys',\n",
       " 'System Volume Information',\n",
       " 'Users',\n",
       " 'Windows']"
      ]
     },
     "execution_count": 28,
     "metadata": {},
     "output_type": "execute_result"
    }
   ],
   "source": [
    "import os\n",
    "\n",
    "print(os.getcwd()) \n",
    "# list all sub-directories\n",
    "os.listdir() \n",
    "os.listdir('C:\\\\')\n",
    " "
   ]
  },
  {
   "cell_type": "markdown",
   "metadata": {},
   "source": [
    "### Making a New Directory in Python\n",
    " "
   ]
  },
  {
   "cell_type": "code",
   "execution_count": 31,
   "metadata": {},
   "outputs": [
    {
     "data": {
      "text/plain": [
       "['person.csv', 'players.csv', 'protagonist.csv', 'test']"
      ]
     },
     "execution_count": 31,
     "metadata": {},
     "output_type": "execute_result"
    }
   ],
   "source": [
    "os.mkdir('test')\n",
    "\n",
    "os.listdir()\n",
    " "
   ]
  },
  {
   "cell_type": "markdown",
   "metadata": {},
   "source": [
    "### Renaming a Directory or a File "
   ]
  },
  {
   "cell_type": "code",
   "execution_count": 34,
   "metadata": {},
   "outputs": [
    {
     "data": {
      "text/plain": [
       "['new_one', 'person.csv', 'players.csv', 'protagonist.csv']"
      ]
     },
     "execution_count": 34,
     "metadata": {},
     "output_type": "execute_result"
    }
   ],
   "source": [
    "import os\n",
    "\n",
    "os.listdir() \n",
    "\n",
    "#rename a directory\n",
    "os.rename('test','new_one')\n",
    "\n",
    "os.listdir()\n"
   ]
  },
  {
   "cell_type": "markdown",
   "metadata": {},
   "source": [
    "### Removing Directory or File in Python "
   ]
  },
  {
   "cell_type": "code",
   "execution_count": 35,
   "metadata": {},
   "outputs": [],
   "source": [
    "import os\n",
    "\n",
    "# delete \"myfile.txt\" file\n",
    "os.remove(\"myfile.txt\")"
   ]
  },
  {
   "cell_type": "markdown",
   "metadata": {},
   "source": [
    "Now let's use rmdir() to delete an empty directory,"
   ]
  },
  {
   "cell_type": "code",
   "execution_count": 36,
   "metadata": {},
   "outputs": [],
   "source": [
    "import os\n",
    "\n",
    "# delete the empty directory \"mydir\"\n",
    "os.rmdir(\"mydir\") "
   ]
  },
  {
   "cell_type": "markdown",
   "metadata": {},
   "source": [
    "In order to remove a non-empty directory, we can use the rmtree() method inside the shutil module.  "
   ]
  },
  {
   "cell_type": "code",
   "execution_count": 38,
   "metadata": {},
   "outputs": [],
   "source": [
    "import shutil\n",
    "\n",
    "# delete \"mydir\" directory and all of its contents\n",
    "shutil.rmtree(\"mydir\")"
   ]
  },
  {
   "cell_type": "markdown",
   "metadata": {},
   "source": [
    "### Working With CSV Files in Python \n",
    "\n",
    "import csv"
   ]
  },
  {
   "cell_type": "markdown",
   "metadata": {},
   "source": [
    "### Read CSV Files with Python "
   ]
  },
  {
   "cell_type": "code",
   "execution_count": 40,
   "metadata": {},
   "outputs": [
    {
     "name": "stdout",
     "output_type": "stream",
     "text": [
      "['SN', ' Name', '    City']\n",
      "['1', '  Michael', ' New Jersey']\n",
      "['2', '  Jack', '    California']\n"
     ]
    }
   ],
   "source": [
    "import csv\n",
    " \n",
    "with open('C:\\\\Users\\\\hp\\\\Desktop\\\\Python3\\\\people.csv', 'r') as file:\n",
    "    reader = csv.reader(file)\n",
    "\n",
    "    for row in reader:\n",
    "        print(row)"
   ]
  },
  {
   "cell_type": "markdown",
   "metadata": {},
   "source": [
    "### Write to CSV Files with Python "
   ]
  },
  {
   "cell_type": "code",
   "execution_count": 41,
   "metadata": {},
   "outputs": [],
   "source": [
    "import csv\n",
    "with open('mynames.csv', 'w', newline='') as file:\n",
    "    writer = csv.writer(file)\n",
    "    writer.writerow([\"ID\", \"Name\", \"age\"])\n",
    "    writer.writerow([1, \"Muhammed\", 39])\n",
    "    writer.writerow([2, \"Ahmed\", 34])\n",
    "    writer.writerow([3, \"Osama\", 42])"
   ]
  },
  {
   "cell_type": "markdown",
   "metadata": {},
   "source": [
    "### Writing Dictionaries to CSV Files "
   ]
  },
  {
   "cell_type": "code",
   "execution_count": 44,
   "metadata": {},
   "outputs": [],
   "source": [
    "import csv\n",
    "\n",
    "with open('employees.csv', 'w', newline='') as file:\n",
    "    fieldnames = ['id', 'name', 'salary']\n",
    "    writer = csv.DictWriter(file, fieldnames=fieldnames)\n",
    "\n",
    "    writer.writeheader()\n",
    "    writer.writerow({'id': 1000,'name': 'Muhammed Essa', 'salary': 2870})\n",
    "    writer.writerow({'id': 2000,'name': 'Ahmed Essa', 'salary': 4000})\n",
    "    writer.writerow({'id': 3000,'name': 'Osama Essa', 'salary': 7000})"
   ]
  },
  {
   "cell_type": "markdown",
   "metadata": {},
   "source": [
    "### Using Python Pandas to Handle CSV Files "
   ]
  },
  {
   "cell_type": "markdown",
   "metadata": {},
   "source": [
    "Read CSV Files \n",
    "\n",
    "#pip install pandas"
   ]
  },
  {
   "cell_type": "code",
   "execution_count": 47,
   "metadata": {},
   "outputs": [
    {
     "name": "stderr",
     "output_type": "stream",
     "text": [
      "<>:2: SyntaxWarning: invalid escape sequence '\\H'\n",
      "<>:2: SyntaxWarning: invalid escape sequence '\\H'\n",
      "C:\\Users\\hp\\AppData\\Local\\Temp\\ipykernel_6600\\3777356237.py:2: SyntaxWarning: invalid escape sequence '\\H'\n",
      "  pd.read_csv(\"C:\\Hello\\\\employees.csv\")\n"
     ]
    },
    {
     "data": {
      "text/html": [
       "<div>\n",
       "<style scoped>\n",
       "    .dataframe tbody tr th:only-of-type {\n",
       "        vertical-align: middle;\n",
       "    }\n",
       "\n",
       "    .dataframe tbody tr th {\n",
       "        vertical-align: top;\n",
       "    }\n",
       "\n",
       "    .dataframe thead th {\n",
       "        text-align: right;\n",
       "    }\n",
       "</style>\n",
       "<table border=\"1\" class=\"dataframe\">\n",
       "  <thead>\n",
       "    <tr style=\"text-align: right;\">\n",
       "      <th></th>\n",
       "      <th>id</th>\n",
       "      <th>name</th>\n",
       "      <th>salary</th>\n",
       "    </tr>\n",
       "  </thead>\n",
       "  <tbody>\n",
       "    <tr>\n",
       "      <th>0</th>\n",
       "      <td>1000</td>\n",
       "      <td>Muhammed Essa</td>\n",
       "      <td>2870</td>\n",
       "    </tr>\n",
       "    <tr>\n",
       "      <th>1</th>\n",
       "      <td>2000</td>\n",
       "      <td>Ahmed Essa</td>\n",
       "      <td>4000</td>\n",
       "    </tr>\n",
       "    <tr>\n",
       "      <th>2</th>\n",
       "      <td>3000</td>\n",
       "      <td>Osama Essa</td>\n",
       "      <td>7000</td>\n",
       "    </tr>\n",
       "  </tbody>\n",
       "</table>\n",
       "</div>"
      ],
      "text/plain": [
       "     id           name  salary\n",
       "0  1000  Muhammed Essa    2870\n",
       "1  2000     Ahmed Essa    4000\n",
       "2  3000     Osama Essa    7000"
      ]
     },
     "execution_count": 47,
     "metadata": {},
     "output_type": "execute_result"
    }
   ],
   "source": [
    "import pandas as pd\n",
    "pd.read_csv(\"C:\\Hello\\\\employees.csv\")"
   ]
  },
  {
   "cell_type": "markdown",
   "metadata": {},
   "source": [
    "### Write to a CSV Files\n",
    "\n",
    "To write to a CSV file, we need to use the to_csv() function of a DataFrame."
   ]
  },
  {
   "cell_type": "code",
   "execution_count": 48,
   "metadata": {},
   "outputs": [],
   "source": [
    "import pandas as pd\n",
    "\n",
    "# creating a data frame\n",
    "df = pd.DataFrame([['Muhammed', 24], ['Essa', 22], ['Hameed', 33]], columns = ['Name', 'Age'])\n",
    "\n",
    "# writing data frame to a CSV file\n",
    "df.to_csv('person.csv')"
   ]
  }
 ],
 "metadata": {
  "kernelspec": {
   "display_name": "Python 3",
   "language": "python",
   "name": "python3"
  },
  "language_info": {
   "codemirror_mode": {
    "name": "ipython",
    "version": 3
   },
   "file_extension": ".py",
   "mimetype": "text/x-python",
   "name": "python",
   "nbconvert_exporter": "python",
   "pygments_lexer": "ipython3",
   "version": "3.12.3"
  }
 },
 "nbformat": 4,
 "nbformat_minor": 2
}
