{
 "cells": [
  {
   "cell_type": "markdown",
   "metadata": {},
   "source": [
    "#### Example 1: Converting integer to float"
   ]
  },
  {
   "cell_type": "code",
   "execution_count": 3,
   "metadata": {},
   "outputs": [
    {
     "name": "stdout",
     "output_type": "stream",
     "text": [
      "Value: 12346.2345\n",
      "Data Type: <class 'float'>\n",
      "New Value: 12349.5345\n"
     ]
    }
   ],
   "source": [
    "integer_number = 12345  \n",
    "float_number = 1.2345\n",
    "float_number2= 3.3\n",
    "\n",
    "new_number = integer_number + float_number\n",
    "new_number2 = new_number + float_number2\n",
    "\n",
    "# display new value and resulting data type\n",
    "print(\"Value:\",new_number)\n",
    "print(\"Data Type:\",type(new_number))\n",
    "print(\"New Value:\",new_number2)"
   ]
  },
  {
   "cell_type": "markdown",
   "metadata": {},
   "source": [
    "### Explicit Type Conversion\n",
    " "
   ]
  },
  {
   "cell_type": "code",
   "execution_count": 4,
   "metadata": {},
   "outputs": [
    {
     "name": "stdout",
     "output_type": "stream",
     "text": [
      "Data type before Type Casting: <class 'str'>\n",
      "Data type of after Type Casting: <class 'int'>\n",
      "Sum: 35\n",
      "Data type of sum: <class 'int'>\n"
     ]
    }
   ],
   "source": [
    "num_string = '12'  \n",
    "num_integer = 23\n",
    "\n",
    "print(\"Data type before Type Casting:\",type(num_string))\n",
    "\n",
    "# explicit type conversion\n",
    "num_string = int(num_string)\n",
    "\n",
    "print(\"Data type of after Type Casting:\",type(num_string))\n",
    "\n",
    "num_sum = num_integer + num_string\n",
    "\n",
    "print(\"Sum:\",num_sum)\n",
    "print(\"Data type of sum:\",type(num_sum))"
   ]
  },
  {
   "cell_type": "markdown",
   "metadata": {},
   "source": [
    "### Python Basic Input and Output"
   ]
  },
  {
   "cell_type": "code",
   "execution_count": 5,
   "metadata": {},
   "outputs": [
    {
     "name": "stdout",
     "output_type": "stream",
     "text": [
      "Python and muhammed Essa\n"
     ]
    }
   ],
   "source": [
    "print('Python and muhammed Essa')\n",
    "\n",
    "# Output: Python is powerful"
   ]
  },
  {
   "cell_type": "code",
   "execution_count": 8,
   "metadata": {},
   "outputs": [
    {
     "name": "stdout",
     "output_type": "stream",
     "text": [
      "New Year. 2025. See you\n"
     ]
    }
   ],
   "source": [
    "print('New Year', 2025, 'See you', sep= '. ')"
   ]
  },
  {
   "cell_type": "code",
   "execution_count": 9,
   "metadata": {},
   "outputs": [
    {
     "name": "stdout",
     "output_type": "stream",
     "text": [
      "Muhammed Essa Hameed\n"
     ]
    }
   ],
   "source": [
    "print('Muhammed ' + 'Essa Hameed')"
   ]
  },
  {
   "cell_type": "markdown",
   "metadata": {},
   "source": [
    "### Output formatting "
   ]
  },
  {
   "cell_type": "code",
   "execution_count": 10,
   "metadata": {},
   "outputs": [
    {
     "name": "stdout",
     "output_type": "stream",
     "text": [
      "The value of x is 5 and y is 10 and z is 20\n"
     ]
    }
   ],
   "source": [
    "x = 5\n",
    "y = 10\n",
    "z = 20\n",
    "\n",
    "print('The value of x is {} and y is {} and z is {}'.format(x,y,z))"
   ]
  },
  {
   "cell_type": "markdown",
   "metadata": {},
   "source": [
    "### Python Input "
   ]
  },
  {
   "cell_type": "code",
   "execution_count": 5,
   "metadata": {},
   "outputs": [
    {
     "name": "stdout",
     "output_type": "stream",
     "text": [
      "You Entered: 33\n",
      "Data type of num: <class 'int'>\n"
     ]
    }
   ],
   "source": [
    "# using input() to take user input\n",
    "num = input('Enter a number: ')\n",
    "num = int(num)\n",
    "print('You Entered:', num)\n",
    "\n",
    "print('Data type of num:', type(num))"
   ]
  },
  {
   "cell_type": "code",
   "execution_count": 6,
   "metadata": {},
   "outputs": [
    {
     "name": "stdout",
     "output_type": "stream",
     "text": [
      "You Entered: 33.0\n",
      "Data type of num: <class 'float'>\n"
     ]
    }
   ],
   "source": [
    "#To convert user input into a number we can use int() or float() functions as:\n",
    "\n",
    "num = float(input('Enter a number: '))\n",
    "print('You Entered:', num)\n",
    "\n",
    "print('Data type of num:', type(num))"
   ]
  },
  {
   "cell_type": "markdown",
   "metadata": {},
   "source": [
    "### Python Operators "
   ]
  },
  {
   "cell_type": "markdown",
   "metadata": {},
   "source": [
    "##### Example 1: Arithmetic Operators in Python"
   ]
  },
  {
   "cell_type": "code",
   "execution_count": 7,
   "metadata": {},
   "outputs": [
    {
     "name": "stdout",
     "output_type": "stream",
     "text": [
      "Sum:  12\n",
      "Subtraction:  4\n",
      "Multiplication:  32\n",
      "Division:  2.0\n",
      "Floor Division:  2\n",
      "Modulo:  0\n",
      "Power:  4096\n"
     ]
    }
   ],
   "source": [
    "a = 8\n",
    "b = 4\n",
    "\n",
    "# addition\n",
    "print ('Sum: ', a + b)  \n",
    "\n",
    "# subtraction\n",
    "print ('Subtraction: ', a - b)   \n",
    "\n",
    "# multiplication\n",
    "print ('Multiplication: ', a * b)  \n",
    "\n",
    "# division\n",
    "print ('Division: ', a / b) \n",
    "\n",
    "# floor division\n",
    "print ('Floor Division: ', a // b)\n",
    "\n",
    "# modulo\n",
    "print ('Modulo: ', a % b)  \n",
    "\n",
    "# a to the power b\n",
    "print ('Power: ', a ** b)   "
   ]
  },
  {
   "cell_type": "markdown",
   "metadata": {},
   "source": [
    "##### Example 2: Assignment Operators"
   ]
  },
  {
   "cell_type": "code",
   "execution_count": 8,
   "metadata": {},
   "outputs": [
    {
     "name": "stdout",
     "output_type": "stream",
     "text": [
      "25\n"
     ]
    }
   ],
   "source": [
    "# assign 10 to a\n",
    "a = 20\n",
    "\n",
    "# assign 5 to b\n",
    "b = 5 \n",
    "\n",
    "# assign the sum of a and b to a\n",
    "a += b      # a = a + b\n",
    "\n",
    "print(a)\n",
    "\n",
    "# Output: 25"
   ]
  },
  {
   "cell_type": "markdown",
   "metadata": {},
   "source": [
    "##### Example 3: Comparison Operators"
   ]
  },
  {
   "cell_type": "code",
   "execution_count": 9,
   "metadata": {},
   "outputs": [
    {
     "name": "stdout",
     "output_type": "stream",
     "text": [
      "a == b = False\n",
      "a != b = True\n",
      "a > b = False\n",
      "a < b = True\n",
      "a >= b = False\n",
      "a <= b = True\n"
     ]
    }
   ],
   "source": [
    "a = 2\n",
    "\n",
    "b = 3\n",
    "\n",
    "# equal to operator\n",
    "print('a == b =', a == b)\n",
    "\n",
    "# not equal to operator\n",
    "print('a != b =', a != b)\n",
    "\n",
    "# greater than operator\n",
    "print('a > b =', a > b)\n",
    "\n",
    "# less than operator\n",
    "print('a < b =', a < b)\n",
    "\n",
    "# greater than or equal to operator\n",
    "print('a >= b =', a >= b)\n",
    "\n",
    "# less than or equal to operator\n",
    "print('a <= b =', a <= b)"
   ]
  },
  {
   "cell_type": "markdown",
   "metadata": {},
   "source": [
    "##### Example 4: Logical Operators"
   ]
  },
  {
   "cell_type": "code",
   "execution_count": 10,
   "metadata": {},
   "outputs": [
    {
     "name": "stdout",
     "output_type": "stream",
     "text": [
      "True\n",
      "False\n",
      "True\n",
      "False\n"
     ]
    }
   ],
   "source": [
    "# logical AND\n",
    "print(True and True)     # True\n",
    "print(True and False)    # False\n",
    "\n",
    "# logical OR\n",
    "print(True or False)     # True\n",
    "\n",
    "# logical NOT\n",
    "print(not True)          # False"
   ]
  },
  {
   "cell_type": "markdown",
   "metadata": {},
   "source": [
    "### 6. Python Special operators"
   ]
  },
  {
   "cell_type": "markdown",
   "metadata": {},
   "source": [
    "##### Identity operators in Python"
   ]
  },
  {
   "cell_type": "code",
   "execution_count": 11,
   "metadata": {},
   "outputs": [
    {
     "name": "stdout",
     "output_type": "stream",
     "text": [
      "False\n",
      "True\n",
      "False\n"
     ]
    }
   ],
   "source": [
    "x1 = 5\n",
    "y1 = 5\n",
    "x2 = 'Hello'\n",
    "y2 = 'Hello'\n",
    "x3 = [1,2,3]\n",
    "y3 = [1,2,3]\n",
    "\n",
    "print(x1 is not y1)  # prints False\n",
    "\n",
    "print(x2 is y2)  # prints True\n",
    "\n",
    "print(x3 is y3)  # prints False"
   ]
  },
  {
   "cell_type": "markdown",
   "metadata": {},
   "source": [
    "##### Membership operators in Python"
   ]
  },
  {
   "cell_type": "code",
   "execution_count": 12,
   "metadata": {},
   "outputs": [
    {
     "name": "stdout",
     "output_type": "stream",
     "text": [
      "True\n",
      "True\n",
      "True\n",
      "False\n"
     ]
    }
   ],
   "source": [
    "message = 'Hello world'\n",
    "dict1 = {1:'a', 2:'b'}\n",
    "\n",
    "# check if 'H' is present in message string\n",
    "print('H' in message)  # prints True\n",
    "\n",
    "# check if 'hello' is present in message string\n",
    "print('hello' not in message)  # prints True\n",
    "\n",
    "# check if '1' key is present in dict1\n",
    "print(1 in dict1)  # prints True\n",
    "\n",
    "# check if 'a' key is present in dict1\n",
    "print('a' in dict1)  # prints False"
   ]
  }
 ],
 "metadata": {
  "kernelspec": {
   "display_name": "Python 3",
   "language": "python",
   "name": "python3"
  },
  "language_info": {
   "codemirror_mode": {
    "name": "ipython",
    "version": 3
   },
   "file_extension": ".py",
   "mimetype": "text/x-python",
   "name": "python",
   "nbconvert_exporter": "python",
   "pygments_lexer": "ipython3",
   "version": "3.12.3"
  }
 },
 "nbformat": 4,
 "nbformat_minor": 2
}
