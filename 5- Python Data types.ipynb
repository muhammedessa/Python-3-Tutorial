{
 "cells": [
  {
   "cell_type": "markdown",
   "metadata": {},
   "source": [
    "### Python Numeric Data Type\n",
    " "
   ]
  },
  {
   "cell_type": "code",
   "execution_count": null,
   "metadata": {},
   "outputs": [],
   "source": [
    "num1 = 5\n",
    "print(num1, 'is of type', type(num1))\n",
    "\n",
    "num2 = 5.42\n",
    "print(num2, 'is of type', type(num2))\n",
    "\n",
    "num3 = 8+2j\n",
    "print(num3, 'is of type', type(num3))"
   ]
  },
  {
   "cell_type": "markdown",
   "metadata": {},
   "source": [
    "##### Type Conversion in Python\n",
    " "
   ]
  },
  {
   "cell_type": "code",
   "execution_count": null,
   "metadata": {},
   "outputs": [],
   "source": [
    "print(1 + 2.0) # prints 3.0"
   ]
  },
  {
   "cell_type": "markdown",
   "metadata": {},
   "source": [
    "##### Explicit Type Conversion "
   ]
  },
  {
   "cell_type": "code",
   "execution_count": null,
   "metadata": {},
   "outputs": [],
   "source": [
    "num1 = int(2.3)\n",
    "print(num1)  # prints 2\n",
    "\n",
    "num2 = int(-2.8)\n",
    "print(num2)  # prints -2\n",
    "\n",
    "num3 = float(5)\n",
    "print(num3) # prints 5.0\n",
    "\n",
    "num4 = complex('3+5j')\n",
    "print(num4)  # prints (3 + 5j)"
   ]
  },
  {
   "cell_type": "markdown",
   "metadata": {},
   "source": [
    "##### Python Random Module\n",
    " "
   ]
  },
  {
   "cell_type": "code",
   "execution_count": 1,
   "metadata": {},
   "outputs": [
    {
     "name": "stdout",
     "output_type": "stream",
     "text": [
      "19\n",
      "b\n",
      "['b', 'c', 'd', 'e', 'a']\n",
      "0.30451864960707875\n"
     ]
    }
   ],
   "source": [
    "import random\n",
    "\n",
    "print(random.randrange(10, 20))\n",
    "\n",
    "list1 = ['a', 'b', 'c', 'd', 'e']\n",
    "\n",
    "# get random item from list1\n",
    "print(random.choice(list1))\n",
    "\n",
    "# Shuffle list1\n",
    "random.shuffle(list1)\n",
    "\n",
    "# Print the shuffled list1\n",
    "print(list1)\n",
    "\n",
    "# Print random element\n",
    "print(random.random())"
   ]
  },
  {
   "cell_type": "markdown",
   "metadata": {},
   "source": [
    "#### Python Mathematics "
   ]
  },
  {
   "cell_type": "code",
   "execution_count": 2,
   "metadata": {},
   "outputs": [
    {
     "name": "stdout",
     "output_type": "stream",
     "text": [
      "3.141592653589793\n",
      "-1.0\n",
      "22026.465794806718\n",
      "3.0\n",
      "1.1752011936438014\n",
      "720\n"
     ]
    }
   ],
   "source": [
    "import math\n",
    "\n",
    "print(math.pi)\n",
    "\n",
    "print(math.cos(math.pi))\n",
    "\n",
    "print(math.exp(10))\n",
    "\n",
    "print(math.log10(1000))\n",
    "\n",
    "print(math.sinh(1))\n",
    "\n",
    "print(math.factorial(6))"
   ]
  },
  {
   "cell_type": "markdown",
   "metadata": {},
   "source": [
    "### Python List "
   ]
  },
  {
   "cell_type": "code",
   "execution_count": null,
   "metadata": {},
   "outputs": [],
   "source": [
    " # a list of three elements\n",
    "ages = [19, 26, 29]\n",
    "print(ages)\n",
    "\n",
    "# Output: [19, 26, 29]"
   ]
  },
  {
   "cell_type": "code",
   "execution_count": null,
   "metadata": {},
   "outputs": [],
   "source": [
    "# a list containing strings and numbers\n",
    "student = ['Jack', 32, 'Computer Science']\n",
    "print(student)\n",
    "\n",
    "# an empty list\n",
    "empty_list = []\n",
    "print(empty_list)"
   ]
  },
  {
   "cell_type": "markdown",
   "metadata": {},
   "source": [
    "##### Access Elements Using Index "
   ]
  },
  {
   "cell_type": "code",
   "execution_count": null,
   "metadata": {},
   "outputs": [],
   "source": [
    "languages = ['Python', 'Swift', 'C++']\n",
    "\n",
    "# access the first element\n",
    "print(languages[0])   # Python\n",
    "\n",
    "# access the third element\n",
    "print(languages[2])   # C++"
   ]
  },
  {
   "cell_type": "markdown",
   "metadata": {},
   "source": [
    "\n",
    "##### Negative Indexing in Python "
   ]
  },
  {
   "cell_type": "code",
   "execution_count": null,
   "metadata": {},
   "outputs": [],
   "source": [
    "languages = ['Python', 'Swift', 'C++']\n",
    "\n",
    "# access item at index 0\n",
    "print(languages[-1])   # C++\n",
    "\n",
    "# access item at index 2\n",
    "print(languages[-3])   # Python"
   ]
  },
  {
   "cell_type": "markdown",
   "metadata": {},
   "source": [
    " \n",
    "##### Add Elements to a Python List "
   ]
  },
  {
   "cell_type": "code",
   "execution_count": null,
   "metadata": {},
   "outputs": [],
   "source": [
    "fruits = ['apple', 'banana', 'orange']\n",
    "print('Original List:', fruits)\n",
    "\n",
    "# using append method \n",
    "fruits.append('cherry')\n",
    "\n",
    "print('Updated List:', fruits)"
   ]
  },
  {
   "cell_type": "markdown",
   "metadata": {},
   "source": [
    " \n",
    "##### Add Elements at the Specified Index \n"
   ]
  },
  {
   "cell_type": "code",
   "execution_count": null,
   "metadata": {},
   "outputs": [],
   "source": [
    "fruits = ['apple', 'banana', 'orange']\n",
    "print(\"Original List:\", fruits) \n",
    "\n",
    "# insert 'cherry' at index 2\n",
    "fruits.insert(2, 'cherry')\n",
    "\n",
    "print(\"Updated List:\", fruits)"
   ]
  },
  {
   "cell_type": "markdown",
   "metadata": {},
   "source": [
    "Change List Items\n",
    " "
   ]
  },
  {
   "cell_type": "code",
   "execution_count": null,
   "metadata": {},
   "outputs": [],
   "source": [
    "colors = ['Red', 'Black', 'Green']\n",
    "print('Original List:', colors)\n",
    "\n",
    "# changing the third item to 'Blue'\n",
    "colors[2] = 'Blue'\n",
    "\n",
    "print('Updated List:', colors)"
   ]
  },
  {
   "cell_type": "markdown",
   "metadata": {},
   "source": [
    "Remove an Item From a List "
   ]
  },
  {
   "cell_type": "code",
   "execution_count": null,
   "metadata": {},
   "outputs": [],
   "source": [
    "numbers = [2,4,7,9]\n",
    "\n",
    "# remove 4 from the list\n",
    "numbers.remove(4)\n",
    "\n",
    "print(numbers) \n",
    "\n",
    "# Output: [2, 7, 9]"
   ]
  },
  {
   "cell_type": "markdown",
   "metadata": {},
   "source": [
    "Python List Length\n",
    " "
   ]
  },
  {
   "cell_type": "code",
   "execution_count": null,
   "metadata": {},
   "outputs": [],
   "source": [
    "cars = ['BMW', 'Mercedes', 'Tesla']\n",
    "\n",
    "print('Total Elements: ', len(cars))  \n",
    "  \n",
    "# Output: Total Elements:  3"
   ]
  },
  {
   "cell_type": "markdown",
   "metadata": {},
   "source": [
    "Iterating Through a List\n",
    " "
   ]
  },
  {
   "cell_type": "code",
   "execution_count": null,
   "metadata": {},
   "outputs": [],
   "source": [
    "fruits = ['apple', 'banana', 'orange']\n",
    "\n",
    "# iterate through the list\n",
    "for fruit in fruits:\n",
    "    print(fruit)"
   ]
  },
  {
   "cell_type": "markdown",
   "metadata": {},
   "source": [
    "Check if an Item Exists in the Python List "
   ]
  },
  {
   "cell_type": "code",
   "execution_count": null,
   "metadata": {},
   "outputs": [],
   "source": [
    "fruits = ['apple', 'cherry', 'banana']\n",
    "\n",
    "print('orange' in fruits)    # False\n",
    "print('cherry' in fruits)    # True"
   ]
  },
  {
   "cell_type": "markdown",
   "metadata": {},
   "source": [
    "Python Tuple\n",
    " "
   ]
  },
  {
   "cell_type": "code",
   "execution_count": null,
   "metadata": {},
   "outputs": [],
   "source": [
    "numbers = (1, 2, -5)\n",
    "print(numbers)\n",
    "\n",
    "# Output: (1, 2, -5)"
   ]
  },
  {
   "cell_type": "markdown",
   "metadata": {},
   "source": [
    "Create a Tuple Using tuple() Constructor\n",
    " "
   ]
  },
  {
   "cell_type": "code",
   "execution_count": null,
   "metadata": {},
   "outputs": [],
   "source": [
    "tuple_constructor = tuple(('Jack', 'Maria', 'David'))\n",
    "print(tuple_constructor)\n",
    "\n",
    "# Output: ('Jack', 'Maria', 'David')"
   ]
  },
  {
   "cell_type": "markdown",
   "metadata": {},
   "source": [
    " \n",
    "Empty Tuple"
   ]
  },
  {
   "cell_type": "code",
   "execution_count": null,
   "metadata": {},
   "outputs": [],
   "source": [
    "# create an empty tuple\n",
    "empty_tuple = ()\n",
    "print(empty_tuple)\n",
    "\n",
    "# Output: ()"
   ]
  },
  {
   "cell_type": "markdown",
   "metadata": {},
   "source": [
    "Tuple of different data types"
   ]
  },
  {
   "cell_type": "code",
   "execution_count": null,
   "metadata": {},
   "outputs": [],
   "source": [
    "# tuple of string types\n",
    "names = ('James', 'Jack', 'Eva')\n",
    "print (names)\n",
    "\n",
    "# tuple of float types\n",
    "float_values = (1.2, 3.4, 2.1)\n",
    "print(float_values)"
   ]
  },
  {
   "cell_type": "markdown",
   "metadata": {},
   "source": [
    "Tuple of mixed data types"
   ]
  },
  {
   "cell_type": "code",
   "execution_count": null,
   "metadata": {},
   "outputs": [],
   "source": [
    "# tuple including string and integer\n",
    "mixed_tuple = (2, 'Hello', 'Python')\n",
    "print(mixed_tuple)\n",
    "\n",
    "# Output: (2, 'Hello', 'Python')"
   ]
  },
  {
   "cell_type": "markdown",
   "metadata": {},
   "source": [
    "##### Access Items Using Index"
   ]
  },
  {
   "cell_type": "code",
   "execution_count": null,
   "metadata": {},
   "outputs": [],
   "source": [
    "languages = ('Python', 'Swift', 'C++')\n",
    "\n",
    "# access the first item\n",
    "print(languages[0])   # Python\n",
    "\n",
    "# access the third item\n",
    "print(languages[2])   # C++"
   ]
  },
  {
   "cell_type": "markdown",
   "metadata": {},
   "source": [
    "Tuple Cannot be Modified "
   ]
  },
  {
   "cell_type": "code",
   "execution_count": null,
   "metadata": {},
   "outputs": [],
   "source": [
    "cars = ('BMW', 'Tesla', 'Ford', 'Toyota')\n",
    "\n",
    "# trying to modify a tuple\n",
    "cars[0] = 'Nissan'    # error\n",
    "       \n",
    "print(cars)"
   ]
  },
  {
   "cell_type": "markdown",
   "metadata": {},
   "source": [
    "Python Tuple Length "
   ]
  },
  {
   "cell_type": "code",
   "execution_count": null,
   "metadata": {},
   "outputs": [],
   "source": [
    "cars = ('BMW', 'Tesla', 'Ford', 'Toyota')\n",
    "print('Total Items:', len(cars)) \n",
    "       \n",
    "# Output: Total Items: 4"
   ]
  },
  {
   "cell_type": "markdown",
   "metadata": {},
   "source": [
    "Iterate Through a Tuple "
   ]
  },
  {
   "cell_type": "code",
   "execution_count": null,
   "metadata": {},
   "outputs": [],
   "source": [
    "fruits = ('apple','banana','orange')\n",
    "\n",
    "# iterate through the tuple\n",
    "for fruit in fruits:\n",
    "    print(fruit)"
   ]
  },
  {
   "cell_type": "markdown",
   "metadata": {},
   "source": [
    "Check if an Item Exists in the Tuple "
   ]
  },
  {
   "cell_type": "code",
   "execution_count": null,
   "metadata": {},
   "outputs": [],
   "source": [
    "colors = ('red', 'orange', 'blue')\n",
    "\n",
    "print('yellow' in colors)    # False\n",
    "print('red' in colors)       # True"
   ]
  },
  {
   "cell_type": "markdown",
   "metadata": {},
   "source": [
    "Change Tuple Items "
   ]
  },
  {
   "cell_type": "code",
   "execution_count": null,
   "metadata": {},
   "outputs": [],
   "source": [
    "fruits = ('apple', 'cherry', 'orange')\n",
    "\n",
    "# trying to change the second item to 'banana'\n",
    "fruits[1] = 'banana'\n",
    "\n",
    "print(fruits) \n",
    "\n",
    "# Output: TypeError: 'tuple' object does not support item assignment"
   ]
  },
  {
   "cell_type": "markdown",
   "metadata": {},
   "source": [
    "Delete Tuples "
   ]
  },
  {
   "cell_type": "code",
   "execution_count": null,
   "metadata": {},
   "outputs": [],
   "source": [
    "animals = ('dog', 'cat', 'rat')\n",
    "\n",
    "# deleting the tuple\n",
    "del animals"
   ]
  },
  {
   "cell_type": "markdown",
   "metadata": {},
   "source": [
    "Create a Python Tuple With One Item"
   ]
  },
  {
   "cell_type": "code",
   "execution_count": null,
   "metadata": {},
   "outputs": [],
   "source": [
    "var = ('Hello')\n",
    "print(var)  # string"
   ]
  },
  {
   "cell_type": "code",
   "execution_count": null,
   "metadata": {},
   "outputs": [],
   "source": [
    "var = ('Hello',) \n",
    "print(var)  # tuple\n",
    "\n",
    "# Output: ('Hello',)"
   ]
  },
  {
   "cell_type": "markdown",
   "metadata": {},
   "source": [
    "Allow Duplicates "
   ]
  },
  {
   "cell_type": "code",
   "execution_count": 3,
   "metadata": {},
   "outputs": [
    {
     "name": "stdout",
     "output_type": "stream",
     "text": [
      "('apple', 'banana', 'cherry', 'apple', 'cherry')\n"
     ]
    }
   ],
   "source": [
    "thistuple = (\"apple\", \"banana\", \"cherry\", \"apple\", \"cherry\")\n",
    "print(thistuple)"
   ]
  },
  {
   "cell_type": "markdown",
   "metadata": {},
   "source": [
    "Tuple Length "
   ]
  },
  {
   "cell_type": "code",
   "execution_count": null,
   "metadata": {},
   "outputs": [],
   "source": [
    "thistuple = (\"apple\", \"banana\", \"cherry\")\n",
    "print(len(thistuple))"
   ]
  },
  {
   "cell_type": "markdown",
   "metadata": {},
   "source": [
    "Access Tuple Items "
   ]
  },
  {
   "cell_type": "code",
   "execution_count": null,
   "metadata": {},
   "outputs": [],
   "source": [
    "thistuple = (\"apple\", \"banana\", \"cherry\")\n",
    "print(thistuple[1])"
   ]
  },
  {
   "cell_type": "markdown",
   "metadata": {},
   "source": [
    "Negative Indexing "
   ]
  },
  {
   "cell_type": "code",
   "execution_count": null,
   "metadata": {},
   "outputs": [],
   "source": [
    "thistuple = (\"apple\", \"banana\", \"cherry\")\n",
    "print(thistuple[-1])"
   ]
  },
  {
   "cell_type": "markdown",
   "metadata": {},
   "source": [
    "Range of Indexes "
   ]
  },
  {
   "cell_type": "code",
   "execution_count": 4,
   "metadata": {},
   "outputs": [
    {
     "name": "stdout",
     "output_type": "stream",
     "text": [
      "('cherry', 'orange', 'kiwi')\n"
     ]
    }
   ],
   "source": [
    "thistuple = (\"apple\", \"banana\", \"cherry\", \"orange\", \"kiwi\", \"melon\", \"mango\")\n",
    "print(thistuple[2:5])"
   ]
  },
  {
   "cell_type": "markdown",
   "metadata": {},
   "source": [
    "### Python Sets "
   ]
  },
  {
   "cell_type": "code",
   "execution_count": 5,
   "metadata": {},
   "outputs": [
    {
     "name": "stdout",
     "output_type": "stream",
     "text": [
      "Student ID: {112, 114, 115, 116, 118}\n",
      "Vowel Letters: {'a', 'o', 'i', 'u', 'e'}\n",
      "Set of mixed data types: {'Hello', 'Bye', 101, -2}\n"
     ]
    }
   ],
   "source": [
    "# create a set of integer type\n",
    "student_id = {112, 114, 116, 118, 115}\n",
    "print('Student ID:', student_id)\n",
    "\n",
    "# create a set of string type\n",
    "vowel_letters = {'a', 'e', 'i', 'o', 'u'}\n",
    "print('Vowel Letters:', vowel_letters)\n",
    "\n",
    "# create a set of mixed data types\n",
    "mixed_set = {'Hello', 101, -2, 'Bye'}\n",
    "print('Set of mixed data types:', mixed_set)"
   ]
  },
  {
   "cell_type": "markdown",
   "metadata": {},
   "source": [
    "Duplicate Items in a Set\n"
   ]
  },
  {
   "cell_type": "code",
   "execution_count": null,
   "metadata": {},
   "outputs": [],
   "source": [
    "numbers = {2, 4, 6, 6, 2, 8}\n",
    "print(numbers)   # {8, 2, 4, 6}"
   ]
  },
  {
   "cell_type": "code",
   "execution_count": 6,
   "metadata": {},
   "outputs": [
    {
     "name": "stdout",
     "output_type": "stream",
     "text": [
      "Initial Set: {34, 12, 21, 54}\n",
      "Updated Set: {32, 34, 12, 21, 54}\n"
     ]
    }
   ],
   "source": [
    "numbers = {21, 34, 54, 12}\n",
    "\n",
    "print('Initial Set:',numbers)\n",
    "\n",
    "# using add() method\n",
    "numbers.add(32)\n",
    "\n",
    "print('Updated Set:', numbers) "
   ]
  },
  {
   "cell_type": "markdown",
   "metadata": {},
   "source": [
    "Update Python Set "
   ]
  },
  {
   "cell_type": "code",
   "execution_count": null,
   "metadata": {},
   "outputs": [],
   "source": [
    "companies = {'Lacoste', 'Ralph Lauren'}\n",
    "tech_companies = ['apple', 'google', 'apple']\n",
    "\n",
    "# using update() method\n",
    "companies.update(tech_companies)\n",
    "\n",
    "print(companies)\n",
    "\n",
    "# Output: {'google', 'apple', 'Lacoste', 'Ralph Lauren'}"
   ]
  },
  {
   "cell_type": "markdown",
   "metadata": {},
   "source": [
    "Remove an Element from a Set "
   ]
  },
  {
   "cell_type": "code",
   "execution_count": null,
   "metadata": {},
   "outputs": [],
   "source": [
    "languages = {'Swift', 'Java', 'Python'}\n",
    "\n",
    "print('Initial Set:',languages)\n",
    "\n",
    "# remove 'Java' from a set\n",
    "removedValue = languages.discard('Java')\n",
    "\n",
    "print('Set after remove():', languages)"
   ]
  },
  {
   "cell_type": "markdown",
   "metadata": {},
   "source": [
    "Iterate Over a Set in Python\n"
   ]
  },
  {
   "cell_type": "code",
   "execution_count": 1,
   "metadata": {},
   "outputs": [
    {
     "name": "stdout",
     "output_type": "stream",
     "text": [
      "Peach\n",
      "Apple\n",
      "Mango\n"
     ]
    }
   ],
   "source": [
    "fruits = {\"Apple\", \"Peach\", \"Mango\"}\n",
    "\n",
    "# for loop to access each fruits\n",
    "for fruit in fruits: \n",
    "    print(fruit)"
   ]
  },
  {
   "cell_type": "markdown",
   "metadata": {},
   "source": [
    "Find Number of Set Elements "
   ]
  },
  {
   "cell_type": "code",
   "execution_count": null,
   "metadata": {},
   "outputs": [],
   "source": [
    "even_numbers = {2,4,6,8}\n",
    "print('Set:',even_numbers)\n",
    "\n",
    "# find number of elements\n",
    "print('Total Elements:', len(even_numbers))"
   ]
  },
  {
   "cell_type": "markdown",
   "metadata": {},
   "source": [
    "Python Dictionary "
   ]
  },
  {
   "cell_type": "code",
   "execution_count": null,
   "metadata": {},
   "outputs": [],
   "source": [
    "# creating a dictionary\n",
    "country_capitals = {\n",
    "  \"Germany\": \"Berlin\", \n",
    "  \"Canada\": \"Ottawa\", \n",
    "  \"England\": \"London\"\n",
    "}\n",
    "\n",
    "# printing the dictionary\n",
    "print(country_capitals)"
   ]
  },
  {
   "cell_type": "markdown",
   "metadata": {},
   "source": [
    "Access Dictionary Items "
   ]
  },
  {
   "cell_type": "code",
   "execution_count": null,
   "metadata": {},
   "outputs": [],
   "source": [
    "country_capitals = {\n",
    "  \"Germany\": \"Berlin\", \n",
    "  \"Canada\": \"Ottawa\", \n",
    "  \"England\": \"London\"\n",
    "}\n",
    "\n",
    "# access the value of keys\n",
    "print(country_capitals[\"Germany\"])    # Output: Berlin\n",
    "print(country_capitals[\"England\"])    # Output: London"
   ]
  },
  {
   "cell_type": "markdown",
   "metadata": {},
   "source": [
    "Add Items to a Dictionary "
   ]
  },
  {
   "cell_type": "code",
   "execution_count": null,
   "metadata": {},
   "outputs": [],
   "source": [
    "country_capitals = {\n",
    "  \"Germany\": \"Berlin\", \n",
    "  \"Canada\": \"Ottawa\", \n",
    "}\n",
    "\n",
    "# add an item with \"Italy\" as key and \"Rome\" as its value\n",
    "country_capitals[\"Italy\"] = \"Rome\"\n",
    "\n",
    "print(country_capitals)"
   ]
  },
  {
   "cell_type": "markdown",
   "metadata": {},
   "source": [
    "Remove Dictionary Items "
   ]
  },
  {
   "cell_type": "code",
   "execution_count": null,
   "metadata": {},
   "outputs": [],
   "source": [
    "country_capitals = {\n",
    "  \"Germany\": \"Berlin\", \n",
    "  \"Canada\": \"Ottawa\", \n",
    "}\n",
    "\n",
    "# delete item having \"Germany\" key\n",
    "del country_capitals[\"Germany\"]\n",
    "\n",
    "print(country_capitals)"
   ]
  },
  {
   "cell_type": "markdown",
   "metadata": {},
   "source": [
    "Python Dictionary pop()\n",
    " "
   ]
  },
  {
   "cell_type": "code",
   "execution_count": null,
   "metadata": {},
   "outputs": [],
   "source": [
    "# create a dictionary\n",
    "marks = { 'Physics': 67, 'Chemistry': 72, 'Math': 89 }\n",
    "\n",
    "element = marks.pop('Chemistry')\n",
    "\n",
    "print('Popped Marks:', element)\n",
    "\n",
    "# Output: Popped Marks: 72"
   ]
  },
  {
   "cell_type": "code",
   "execution_count": null,
   "metadata": {},
   "outputs": [],
   "source": [
    "country_capitals = {\n",
    "  \"Germany\": \"Berlin\", \n",
    "  \"Canada\": \"Ottawa\", \n",
    "}\n",
    "\n",
    "# clear the dictionary\n",
    "country_capitals.clear()\n",
    "\n",
    "print(country_capitals)  "
   ]
  },
  {
   "cell_type": "markdown",
   "metadata": {},
   "source": [
    "Change Dictionary Items "
   ]
  },
  {
   "cell_type": "code",
   "execution_count": null,
   "metadata": {},
   "outputs": [],
   "source": [
    "country_capitals = {\n",
    "  \"Germany\": \"Berlin\", \n",
    "  \"Italy\": \"Naples\", \n",
    "  \"England\": \"London\"\n",
    "}\n",
    "\n",
    "# change the value of \"Italy\" key to \"Rome\"\n",
    "country_capitals[\"Italy\"] = \"Rome\"\n",
    "\n",
    "print(country_capitals)"
   ]
  },
  {
   "cell_type": "markdown",
   "metadata": {},
   "source": [
    "Iterate Through a Dictionary "
   ]
  },
  {
   "cell_type": "code",
   "execution_count": null,
   "metadata": {},
   "outputs": [],
   "source": [
    "country_capitals = {\n",
    "  \"United States\": \"Washington D.C.\", \n",
    "  \"Italy\": \"Rome\" \n",
    "}\n",
    "\n",
    "# print dictionary keys one by one\n",
    "for country in country_capitals:\n",
    "    print(country)\n",
    "\n",
    "print()\n",
    "\n",
    "# print dictionary values one by one\n",
    "for country in country_capitals:\n",
    "    capital = country_capitals[country]\n",
    "    print(capital)"
   ]
  },
  {
   "cell_type": "markdown",
   "metadata": {},
   "source": [
    "Find Dictionary Length "
   ]
  },
  {
   "cell_type": "code",
   "execution_count": null,
   "metadata": {},
   "outputs": [],
   "source": [
    "country_capitals = {\"England\": \"London\", \"Italy\": \"Rome\"}\n",
    "\n",
    "# get dictionary's length\n",
    "print(len(country_capitals))   # Output: 2\n",
    "\n",
    "numbers = {10: \"ten\", 20: \"twenty\", 30: \"thirty\"}\n",
    "\n",
    "# get dictionary's length\n",
    "print(len(numbers))            # Output: 3\n",
    "\n",
    "countries = {}\n",
    "\n",
    "# get dictionary's length\n",
    "print(len(countries))          # Output: 0"
   ]
  },
  {
   "cell_type": "markdown",
   "metadata": {},
   "source": [
    "Dictionary Membership Test "
   ]
  },
  {
   "cell_type": "code",
   "execution_count": null,
   "metadata": {},
   "outputs": [],
   "source": [
    "file_types = {\n",
    "    \".txt\": \"Text File\",\n",
    "    \".pdf\": \"PDF Document\",\n",
    "    \".jpg\": \"JPEG Image\",\n",
    "}\n",
    "\n",
    "# use of in and not in operators\n",
    "print(\".pdf\" in file_types)       # Output: True\n",
    "print(\".mp3\" in file_types)       # Output: False\n",
    "print(\".mp3\" not in file_types)   # Output: True"
   ]
  }
 ],
 "metadata": {
  "kernelspec": {
   "display_name": "Python 3",
   "language": "python",
   "name": "python3"
  },
  "language_info": {
   "codemirror_mode": {
    "name": "ipython",
    "version": 3
   },
   "file_extension": ".py",
   "mimetype": "text/x-python",
   "name": "python",
   "nbconvert_exporter": "python",
   "pygments_lexer": "ipython3",
   "version": "3.12.3"
  }
 },
 "nbformat": 4,
 "nbformat_minor": 2
}
