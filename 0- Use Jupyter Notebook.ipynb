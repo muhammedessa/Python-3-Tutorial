{
 "cells": [
  {
   "cell_type": "markdown",
   "metadata": {},
   "source": [
    "### Use Jupyter Notebook"
   ]
  },
  {
   "cell_type": "markdown",
   "metadata": {},
   "source": [
    "The Jupyter Notebook is an open-source web application that allows you to create and share documents that contain live code, equations, visualizations, and narrative text. Uses include data cleaning and transformation, numerical simulation, statistical modeling, data visualization, machine learning, and much more."
   ]
  },
  {
   "cell_type": "markdown",
   "metadata": {},
   "source": [
    "python -m pip install --upgrade pip\n",
    "\n",
    "python -m pip install jupyter"
   ]
  },
  {
   "cell_type": "markdown",
   "metadata": {},
   "source": [
    "### Cells in Jupyter Notebook \n",
    "\n",
    "Code\n",
    "\n",
    "Markup\n",
    "\n",
    "Raw NBConverter"
   ]
  },
  {
   "cell_type": "markdown",
   "metadata": {},
   "source": [
    "### 1. Code\n",
    "\n",
    "This is where the code is typed and when executed the code will display the output"
   ]
  },
  {
   "cell_type": "code",
   "execution_count": 1,
   "metadata": {},
   "outputs": [
    {
     "name": "stdout",
     "output_type": "stream",
     "text": [
      "Hello World\n"
     ]
    }
   ],
   "source": [
    "print(\"Hello World\") "
   ]
  },
  {
   "cell_type": "markdown",
   "metadata": {},
   "source": [
    "### 2. Markdown\n",
    "\n",
    "Markdown is a popular markup language that is the superset of the HTML. Jupyter Notebook also supports markdown."
   ]
  },
  {
   "cell_type": "markdown",
   "metadata": {},
   "source": [
    "# Muhammed\n",
    "## Muhammed\n",
    "### Muhammed\n",
    "#### Muhammed"
   ]
  },
  {
   "cell_type": "markdown",
   "metadata": {},
   "source": [
    "### Adding List: Adding List is really simple in Jupyter Notebook. "
   ]
  },
  {
   "cell_type": "markdown",
   "metadata": {},
   "source": [
    "### unordered \n",
    "* item1\n",
    "* item2\n",
    "   * sub item1\n",
    "   * sub-item2\n",
    "\n",
    "### ordered\n",
    "1. item1\n",
    "2. item2\n",
    "   1. sub item 1\n",
    "      * sub item 1\n",
    "   2. sub-item 2\n",
    "      1. Item 1 (sub)\n"
   ]
  },
  {
   "cell_type": "markdown",
   "metadata": {},
   "source": [
    "##   equation\n",
    "$e^{i \\lambda} + pi = 0$\n",
    "$$e^x=\\sum_{i=\\gamma}^\\theta \\frac{1}{i!}x^i$$"
   ]
  },
  {
   "cell_type": "markdown",
   "metadata": {},
   "source": [
    "# Table\n",
    "| Header 1 | Header 2 | \n",
    "|------|------|\n",
    "| table data 1 | table data 2| \n",
    "| table data 3 | table data 4|"
   ]
  }
 ],
 "metadata": {
  "kernelspec": {
   "display_name": "Python 3",
   "language": "python",
   "name": "python3"
  },
  "language_info": {
   "codemirror_mode": {
    "name": "ipython",
    "version": 3
   },
   "file_extension": ".py",
   "mimetype": "text/x-python",
   "name": "python",
   "nbconvert_exporter": "python",
   "pygments_lexer": "ipython3",
   "version": "3.12.3"
  }
 },
 "nbformat": 4,
 "nbformat_minor": 2
}
