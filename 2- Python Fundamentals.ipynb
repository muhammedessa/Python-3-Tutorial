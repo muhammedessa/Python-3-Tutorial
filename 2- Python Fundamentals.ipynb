{
 "cells": [
  {
   "cell_type": "markdown",
   "metadata": {},
   "source": [
    " ### Python Variables\n",
    "\n",
    " In programming, a variable is a container (storage area) to hold data. For example,\n",
    "\n"
   ]
  },
  {
   "cell_type": "code",
   "execution_count": null,
   "metadata": {},
   "outputs": [],
   "source": [
    "number = 10\n",
    "\n",
    "# assign value to site_name variable\n",
    "site_name = 'programiz.pro'\n",
    "\n",
    "print(site_name)\n",
    "\n",
    "# Output: programiz.pro"
   ]
  },
  {
   "cell_type": "markdown",
   "metadata": {},
   "source": [
    "Changing the Value of a Variable in Python"
   ]
  },
  {
   "cell_type": "code",
   "execution_count": null,
   "metadata": {},
   "outputs": [],
   "source": [
    "site_name = 'Muhammed Essa'\n",
    "print(site_name)\n",
    "\n",
    "# assigning a new value to site_name\n",
    "site_name = 'Python tutorial'\n",
    "\n",
    "print(site_name)"
   ]
  },
  {
   "cell_type": "markdown",
   "metadata": {},
   "source": [
    "Example: Assigning multiple values to multiple variables"
   ]
  },
  {
   "cell_type": "code",
   "execution_count": null,
   "metadata": {},
   "outputs": [],
   "source": [
    "a, b, c = 5, 3.2, 'Hello'\n",
    "\n",
    "print (a)  # prints 5\n",
    "print (b)  # prints 3.2\n",
    "print (c)  # prints Hello "
   ]
  },
  {
   "cell_type": "markdown",
   "metadata": {},
   "source": [
    "If we want to assign the same value to multiple variables at once, we can do this as:"
   ]
  },
  {
   "cell_type": "code",
   "execution_count": null,
   "metadata": {},
   "outputs": [],
   "source": [
    "site1 = site2  = 'Muhammed Essa'\n",
    "\n",
    "print (x)  # prints Muhammed Essa\n",
    "print (y)  # prints Muhammed Essa"
   ]
  }
 ],
 "metadata": {
  "kernelspec": {
   "display_name": "Python 3",
   "language": "python",
   "name": "python3"
  },
  "language_info": {
   "name": "python",
   "version": "3.12.3"
  }
 },
 "nbformat": 4,
 "nbformat_minor": 2
}
